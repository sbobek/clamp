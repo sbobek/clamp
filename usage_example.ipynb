{
 "cells": [
  {
   "cell_type": "code",
   "execution_count": null,
   "id": "3c440dbc-740e-4e4a-b975-886d08da1406",
   "metadata": {},
   "outputs": [],
   "source": [
    "import sys\n",
    "sys.path.append('./clamp/lux/pyuid3')\n",
    "sys.path.append('./clamp/lux/lux')"
   ]
  },
  {
   "cell_type": "code",
   "execution_count": null,
   "id": "741817c7",
   "metadata": {},
   "outputs": [],
   "source": [
    "from clamp.clamp import *\n",
    "import sklearn\n",
    "import pandas as pd\n",
    "import numpy as np\n",
    "#import xgboost as xgb\n",
    "from sklearn.ensemble import RandomForestClassifier\n",
    "import pickle\n",
    "import re\n",
    "import math\n",
    "import warnings\n",
    "import os\n",
    "import math\n",
    "import matplotlib.pyplot as plt\n",
    "import socket\n",
    "import tempfile\n",
    "warnings.filterwarnings('ignore')"
   ]
  },
  {
   "cell_type": "code",
   "execution_count": null,
   "id": "364346ce",
   "metadata": {},
   "outputs": [],
   "source": [
    "'''\n",
    "In console run:\n",
    "java -jar HMRServer.jar <numer_portu> <ilosc_watkow> e.g.\n",
    "java -jar HMRServer.jar 9999 24\n",
    "'''\n",
    "\n",
    "HOST = \"127.0.0.1\" #\"127.0.0.1\"  # The server's hostname or IP address\n",
    "PORT = 9999 # The port used by the server\n",
    "\n",
    "def queryHRTDServer(query,max_msg_size=1024):\n",
    "    query+='\\n'\n",
    "    with socket.socket(socket.AF_INET, socket.SOCK_STREAM) as s:\n",
    "        s.connect((HOST, PORT))\n",
    "        s.sendall(bytes(query,'UTF8'))\n",
    "        fragments = []\n",
    "        while True: \n",
    "            chunk = s.recv(max_msg_size)\n",
    "            if not chunk: \n",
    "                break\n",
    "            fragments.append(chunk)\n",
    "        arr = b''.join(fragments)\n",
    "    return arr.decode('UTF8')\n",
    "\n",
    "def rem_hmr_files():\n",
    "    for x in os.listdir():\n",
    "        if x.endswith(\".hmr\"):\n",
    "            os.remove(x)"
   ]
  },
  {
   "cell_type": "markdown",
   "id": "d39ad4cf",
   "metadata": {},
   "source": [
    "# Example based on iris dataset without crossvalidation"
   ]
  },
  {
   "cell_type": "code",
   "execution_count": null,
   "id": "d350a508",
   "metadata": {
    "tags": []
   },
   "outputs": [],
   "source": [
    "from sklearn import datasets\n",
    "iris = datasets.load_iris()\n",
    "features = ['sepal_length','sepal_width','petal_length','petal_width']\n",
    "target = 'calss'\n",
    "\n",
    "#create daatframe with columns names as strings (LUX accepts only DataFrames withj string columns names)\n",
    "dataset = pd.DataFrame(iris.data,columns=features)\n",
    "dataset[target] = iris.target\n"
   ]
  },
  {
   "cell_type": "code",
   "execution_count": null,
   "id": "6ebfd03a",
   "metadata": {
    "tags": []
   },
   "outputs": [],
   "source": [
    "\n",
    "data = dataset.drop(target, axis = 1)\n",
    "\n",
    "# labels were removed because one of the clamp's feature is to make clustering, \n",
    "# however if necessary you can pass labels in fit function and then clustring stage will be omitted"
   ]
  },
  {
   "cell_type": "code",
   "execution_count": null,
   "id": "1a31e8f0",
   "metadata": {
    "tags": []
   },
   "outputs": [],
   "source": [
    "data.head()"
   ]
  },
  {
   "cell_type": "code",
   "execution_count": null,
   "id": "8484bbe6",
   "metadata": {
    "tags": []
   },
   "outputs": [],
   "source": [
    "clamp = CLAMP(clusterng_algorithm = KMeans(n_clusters = 3), \n",
    "                classification_model = xgb.XGBClassifier(), \n",
    "                description_points_ratio=5,\n",
    "                test_size = 0.1,\n",
    "                metric = 'minkowski',\n",
    "                thresh = 0.9, \n",
    "                bounding_box_selection ='random',\n",
    "                explainer_type = 'lux',\n",
    "                approach = 'other')\n",
    "#parameters to adjust there is also possibility to change clustering algorithm and classification model\n",
    "# available bounding_box_selection parameter: centroids, outliers, tree_query, random"
   ]
  },
  {
   "cell_type": "code",
   "execution_count": null,
   "id": "05413531",
   "metadata": {
    "tags": []
   },
   "outputs": [],
   "source": [
    "#clamp.fit(data, labels) -- this one is for data with labels\n",
    "clamp.fit(data) # -- this one is for data without labels\n",
    "\n",
    "#the dataset has been splited in to train and test dataset, train dataset in provided to anchor to generate rules based on boundingbox method and test dataset is saved to run predict method (check below)"
   ]
  },
  {
   "cell_type": "code",
   "execution_count": null,
   "id": "a1127b85",
   "metadata": {
    "tags": []
   },
   "outputs": [],
   "source": [
    "predict = clamp.predict(clamp.X_test, clamp.y_test) #labels generation based on the test dataset in generated rules in previous step"
   ]
  },
  {
   "cell_type": "code",
   "execution_count": null,
   "id": "e1384119",
   "metadata": {
    "tags": []
   },
   "outputs": [],
   "source": [
    "print(clamp.explainer_accuracy) \n",
    "#score calculation (comparison labels from test dataset and those predicted by the clamp -- previous step)\n",
    "#available: explainer_f1, explainer_accuracy, explainer_classification_report, explainer_recall"
   ]
  },
  {
   "cell_type": "code",
   "execution_count": null,
   "id": "3a593aca",
   "metadata": {
    "tags": []
   },
   "outputs": [],
   "source": [
    "r = clamp.justify()\n",
    "r\n",
    "rem_hmr_files() # remove temp hmr files\n"
   ]
  },
  {
   "cell_type": "code",
   "execution_count": null,
   "id": "c89f9509-df88-474f-94a2-443208b3f46c",
   "metadata": {},
   "outputs": [],
   "source": [
    "#display genarated rules\n",
    "r"
   ]
  },
  {
   "cell_type": "markdown",
   "id": "c8e6952b",
   "metadata": {
    "tags": []
   },
   "source": [
    "# Grid Search CV"
   ]
  },
  {
   "cell_type": "code",
   "execution_count": null,
   "id": "55444fe5",
   "metadata": {},
   "outputs": [],
   "source": [
    "from sklearn.model_selection import GridSearchCV\n",
    "from sklearn.cluster import Birch"
   ]
  },
  {
   "cell_type": "code",
   "execution_count": null,
   "id": "9771f379",
   "metadata": {},
   "outputs": [],
   "source": [
    "def scorer(clamp, *args):\n",
    "    clamp.predict(clamp.X_test, clamp.y_test)\n",
    "    return {'f1': clamp.explainer_f1, 'accuracy': clamp.explainer_accuracy, 'precision': clamp.explainer_precision}"
   ]
  },
  {
   "cell_type": "code",
   "execution_count": null,
   "id": "1fb906eb",
   "metadata": {
    "tags": []
   },
   "outputs": [],
   "source": [
    "parameters = [{\n",
    "                'bounding_box_selection': ['random', 'centroids', 'outliers', 'tree_query'],\n",
    "                'description_points_ratio': [2, 4, 8, 13],\n",
    "                'test_size': [0.2],\n",
    "                'thresh':[0.9],\n",
    "                'explainer_type': ['lux'],\n",
    "                'neighborhood_size':  [20],\n",
    "                'max_depth': [2, 4, 5]\n",
    "},\n",
    "            {\n",
    "                'explainer_type': ['global'],\n",
    "                'description_points_ratio': [2,4,8,13],\n",
    "                'test_size': [0.25]\n",
    "}, \n",
    "                { \n",
    "                'description_points_ratio': [2, 4, 8, 13],\n",
    "                'test_size': [0.2],\n",
    "                'thresh':[0.9],\n",
    "                'explainer_type': ['lux'],\n",
    "                'approach': ['other'],\n",
    "                'neighborhood_size':  [20],\n",
    "                'max_depth': [2, 4, 5]\n",
    "}]\n"
   ]
  },
  {
   "cell_type": "code",
   "execution_count": null,
   "id": "e2eba2dd",
   "metadata": {},
   "outputs": [],
   "source": [
    "list_of_choosen_datasets = [\n",
    "    'ecoli.csv',\n",
    "    'lymphography.csv',\n",
    "    'glass.csv',\n",
    "    'balance.csv',\n",
    "    'breast_tissue.csv',\n",
    "    'primary_tumor.csv',\n",
    "    'vote.csv',\n",
    "    'ionosphere.csv',\n",
    "    'cmc.csv',\n",
    "    'bupa.csv']"
   ]
  },
  {
   "cell_type": "code",
   "execution_count": null,
   "id": "c4240f40",
   "metadata": {
    "tags": []
   },
   "outputs": [],
   "source": [
    "list_of_clusters = []\n",
    "for data in list_of_choosen_datasets:\n",
    "    list_of_clusters.append(len(pd.read_csv('synthetic_datasets/'+data)['y'].unique()))"
   ]
  },
  {
   "cell_type": "code",
   "execution_count": null,
   "id": "aa60e13f",
   "metadata": {
    "tags": []
   },
   "outputs": [],
   "source": [
    "#parameter settings as described above\n",
    "from sklearn.exceptions import UndefinedMetricWarning\n",
    "os.environ[\"PYTHONWARNINGS\"] = \"ignore::FutureWarning,ignore::UndefinedMetricWarning\"\n",
    "cv_restuls = []\n",
    "cv_datasets = []\n",
    "\n",
    "for dataset,cluster_number in zip(list_of_choosen_datasets, list_of_clusters):\n",
    "    data = pd.read_csv('synthetic_datasets/'+dataset)\n",
    "    data.dropna(inplace = True)\n",
    "    data.reset_index(drop = True, inplace = True)\n",
    "    labels = data['y']\n",
    "    data = data.drop('y', axis = 1)\n",
    "    print(f'Dataset: {dataset}')\n",
    "    \n",
    "    clamp = CLAMP(clusterng_algorithm = KMeans(n_clusters = cluster_number), classification_model = RandomForestClassifier())\n",
    "    \n",
    "    clf = GridSearchCV(clamp, parameters, scoring = scorer, cv = 10, refit = 'accuracy', n_jobs = 20, error_score = 'raise')\n",
    "    clf.fit(data, labels)\n",
    "    \n",
    "    rem_hmr_files()"
   ]
  },
  {
   "cell_type": "code",
   "execution_count": null,
   "id": "1a396a12",
   "metadata": {},
   "outputs": [],
   "source": [
    "rem_hmr_files()"
   ]
  },
  {
   "cell_type": "code",
   "execution_count": null,
   "id": "085387c2-b15b-452d-8a6f-9e2628fb3d93",
   "metadata": {},
   "outputs": [],
   "source": []
  },
  {
   "cell_type": "code",
   "execution_count": null,
   "id": "88ccc1c7-f36b-4c43-a2b1-a3c75145ad4d",
   "metadata": {},
   "outputs": [],
   "source": []
  },
  {
   "cell_type": "code",
   "execution_count": null,
   "id": "0c04afb3-2fea-48a4-b082-536e5acf2f47",
   "metadata": {},
   "outputs": [],
   "source": []
  },
  {
   "cell_type": "code",
   "execution_count": null,
   "id": "8d9e30c3-e1c3-46b0-a744-7e21bdf7351a",
   "metadata": {},
   "outputs": [],
   "source": []
  }
 ],
 "metadata": {
  "kernelspec": {
   "display_name": "Python 3 (ipykernel)",
   "language": "python",
   "name": "python3"
  },
  "language_info": {
   "codemirror_mode": {
    "name": "ipython",
    "version": 3
   },
   "file_extension": ".py",
   "mimetype": "text/x-python",
   "name": "python",
   "nbconvert_exporter": "python",
   "pygments_lexer": "ipython3",
   "version": "3.8.13"
  }
 },
 "nbformat": 4,
 "nbformat_minor": 5
}
