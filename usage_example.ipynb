{
 "cells": [
  {
   "cell_type": "code",
   "execution_count": null,
   "id": "3c440dbc-740e-4e4a-b975-886d08da1406",
   "metadata": {},
   "outputs": [],
   "source": [
    "import sys\n",
    "sys.path.append('./clamp/lux/pyuid3')\n",
    "sys.path.append('./clamp/lux/lux')"
   ]
  },
  {
   "cell_type": "code",
   "execution_count": null,
   "id": "741817c7",
   "metadata": {},
   "outputs": [],
   "source": [
    "from clamp.clamp import *\n",
    "import sklearn\n",
    "import pandas as pd\n",
    "import numpy as np\n",
    "import xgboost as xgb\n",
    "import pickle\n",
    "import re\n",
    "import math\n",
    "import warnings\n",
    "import os\n",
    "import math\n",
    "import matplotlib.pyplot as plt\n",
    "import socket\n",
    "import tempfile\n",
    "warnings.filterwarnings('ignore')"
   ]
  },
  {
   "cell_type": "code",
   "execution_count": null,
   "id": "364346ce",
   "metadata": {},
   "outputs": [],
   "source": [
    "'''\n",
    "In console run:\n",
    "java -jar HMRServer.jar <numer_portu> <ilosc_watkow> e.g.\n",
    "java -jar HMRServer.jar 9999 24\n",
    "'''\n",
    "\n",
    "HOST = \"127.0.0.1\" #\"127.0.0.1\"  # The server's hostname or IP address\n",
    "PORT = 9999 # The port used by the server\n",
    "\n",
    "def queryHRTDServer(query,max_msg_size=1024):\n",
    "    query+='\\n'\n",
    "    with socket.socket(socket.AF_INET, socket.SOCK_STREAM) as s:\n",
    "        s.connect((HOST, PORT))\n",
    "        s.sendall(bytes(query,'UTF8'))\n",
    "        fragments = []\n",
    "        while True: \n",
    "            chunk = s.recv(max_msg_size)\n",
    "            if not chunk: \n",
    "                break\n",
    "            fragments.append(chunk)\n",
    "        arr = b''.join(fragments)\n",
    "    return arr.decode('UTF8')\n",
    "\n",
    "def rem_hmr_files():\n",
    "    for x in os.listdir():\n",
    "        if x.endswith(\".hmr\"):\n",
    "            os.remove(x)"
   ]
  },
  {
   "cell_type": "markdown",
   "id": "d39ad4cf",
   "metadata": {},
   "source": [
    "# Example based on iris dataset without crossvalidation"
   ]
  },
  {
   "cell_type": "code",
   "execution_count": null,
   "id": "d350a508",
   "metadata": {
    "tags": []
   },
   "outputs": [],
   "source": [
    "from sklearn import datasets\n",
    "iris = datasets.load_iris()\n",
    "features = ['sepal_length','sepal_width','petal_length','petal_width']\n",
    "target = 'calss'\n",
    "\n",
    "#create daatframe with columns names as strings (LUX accepts only DataFrames withj string columns names)\n",
    "dataset = pd.DataFrame(iris.data,columns=features)\n",
    "dataset[target] = iris.target\n"
   ]
  },
  {
   "cell_type": "code",
   "execution_count": null,
   "id": "6ebfd03a",
   "metadata": {
    "tags": []
   },
   "outputs": [],
   "source": [
    "\n",
    "data = dataset.drop(target, axis = 1)\n",
    "\n",
    "# labels were removed because one of the clamp's feature is to make clustering, \n",
    "# however if necessary you can pass labels in fit function and then clustring stage will be omitted"
   ]
  },
  {
   "cell_type": "code",
   "execution_count": null,
   "id": "1a31e8f0",
   "metadata": {
    "tags": []
   },
   "outputs": [
    {
     "data": {
      "text/html": [
       "<div>\n",
       "<style scoped>\n",
       "    .dataframe tbody tr th:only-of-type {\n",
       "        vertical-align: middle;\n",
       "    }\n",
       "\n",
       "    .dataframe tbody tr th {\n",
       "        vertical-align: top;\n",
       "    }\n",
       "\n",
       "    .dataframe thead th {\n",
       "        text-align: right;\n",
       "    }\n",
       "</style>\n",
       "<table border=\"1\" class=\"dataframe\">\n",
       "  <thead>\n",
       "    <tr style=\"text-align: right;\">\n",
       "      <th></th>\n",
       "      <th>sepal_length</th>\n",
       "      <th>sepal_width</th>\n",
       "      <th>petal_length</th>\n",
       "      <th>petal_width</th>\n",
       "    </tr>\n",
       "  </thead>\n",
       "  <tbody>\n",
       "    <tr>\n",
       "      <th>0</th>\n",
       "      <td>5.1</td>\n",
       "      <td>3.5</td>\n",
       "      <td>1.4</td>\n",
       "      <td>0.2</td>\n",
       "    </tr>\n",
       "    <tr>\n",
       "      <th>1</th>\n",
       "      <td>4.9</td>\n",
       "      <td>3.0</td>\n",
       "      <td>1.4</td>\n",
       "      <td>0.2</td>\n",
       "    </tr>\n",
       "    <tr>\n",
       "      <th>2</th>\n",
       "      <td>4.7</td>\n",
       "      <td>3.2</td>\n",
       "      <td>1.3</td>\n",
       "      <td>0.2</td>\n",
       "    </tr>\n",
       "    <tr>\n",
       "      <th>3</th>\n",
       "      <td>4.6</td>\n",
       "      <td>3.1</td>\n",
       "      <td>1.5</td>\n",
       "      <td>0.2</td>\n",
       "    </tr>\n",
       "    <tr>\n",
       "      <th>4</th>\n",
       "      <td>5.0</td>\n",
       "      <td>3.6</td>\n",
       "      <td>1.4</td>\n",
       "      <td>0.2</td>\n",
       "    </tr>\n",
       "  </tbody>\n",
       "</table>\n",
       "</div>"
      ],
      "text/plain": [
       "   sepal_length  sepal_width  petal_length  petal_width\n",
       "0           5.1          3.5           1.4          0.2\n",
       "1           4.9          3.0           1.4          0.2\n",
       "2           4.7          3.2           1.3          0.2\n",
       "3           4.6          3.1           1.5          0.2\n",
       "4           5.0          3.6           1.4          0.2"
      ]
     },
     "execution_count": 6,
     "metadata": {},
     "output_type": "execute_result"
    }
   ],
   "source": [
    "data.head()"
   ]
  },
  {
   "cell_type": "code",
   "execution_count": null,
   "id": "8484bbe6",
   "metadata": {
    "tags": []
   },
   "outputs": [],
   "source": [
    "clamp = CLAMP(clusterng_algorithm = KMeans(n_clusters = 3), \n",
    "                classification_model = xgb.XGBClassifier(), \n",
    "                description_points_ratio=5,\n",
    "                test_size = 0.1,\n",
    "                metric = 'minkowski',\n",
    "                thresh = 0.9, \n",
    "                bounding_box_selection ='random',\n",
    "                explainer_type = 'lux',\n",
    "                approach = 'other')\n",
    "#parameters to adjust there is also possibility to change clustering algorithm and classification model\n",
    "# available bounding_box_selection parameter: centroids, outliers, tree_query, random"
   ]
  },
  {
   "cell_type": "code",
   "execution_count": null,
   "id": "05413531",
   "metadata": {
    "tags": []
   },
   "outputs": [
    {
     "name": "stdout",
     "output_type": "stream",
     "text": [
      "Data without labels, clustering stage implementation\n",
      "Brute approach, choosen data description skipped. All cases will be checked.\n",
      "Method:  random\n",
      "Lux explainer\n",
      "Accuracy: 0.7333333333333333\n",
      "Method:  centroids\n",
      "Lux explainer\n",
      "Accuracy: 0.6\n",
      "Method:  outliers\n",
      "Lux explainer\n",
      "Accuracy: 1.0\n",
      "Method:  tree_query\n",
      "Lux explainer\n",
      "Accuracy: 0.6666666666666666\n"
     ]
    }
   ],
   "source": [
    "#clamp.fit(data, labels) -- this one is for data with labels\n",
    "clamp.fit(data) # -- this one is for data without labels\n",
    "\n",
    "#the dataset has been splited in to train and test dataset, train dataset in provided to anchor to generate rules based on boundingbox method and test dataset is saved to run predict method (check below)"
   ]
  },
  {
   "cell_type": "code",
   "execution_count": null,
   "id": "a1127b85",
   "metadata": {
    "tags": []
   },
   "outputs": [
    {
     "name": "stdout",
     "output_type": "stream",
     "text": [
      "Accuracy: 0.6666666666666666\n"
     ]
    }
   ],
   "source": [
    "predict = clamp.predict(clamp.X_test, clamp.y_test) #labels generation based on the test dataset in generated rules in previous step"
   ]
  },
  {
   "cell_type": "code",
   "execution_count": null,
   "id": "e1384119",
   "metadata": {
    "tags": []
   },
   "outputs": [
    {
     "name": "stdout",
     "output_type": "stream",
     "text": [
      "0.6666666666666666\n"
     ]
    }
   ],
   "source": [
    "print(clamp.explainer_accuracy) \n",
    "#score calculation (comparison labels from test dataset and those predicted by the clamp -- previous step)\n",
    "#available: explainer_f1, explainer_accuracy, explainer_classification_report, explainer_recall"
   ]
  },
  {
   "cell_type": "code",
   "execution_count": null,
   "id": "3a593aca",
   "metadata": {
    "tags": []
   },
   "outputs": [],
   "source": [
    "r = clamp.justify()\n",
    "r\n",
    "rem_hmr_files() # remove temp hmr files\n"
   ]
  },
  {
   "cell_type": "code",
   "execution_count": null,
   "id": "c89f9509-df88-474f-94a2-443208b3f46c",
   "metadata": {},
   "outputs": [
    {
     "data": {
      "text/html": [
       "<div>\n",
       "<style scoped>\n",
       "    .dataframe tbody tr th:only-of-type {\n",
       "        vertical-align: middle;\n",
       "    }\n",
       "\n",
       "    .dataframe tbody tr th {\n",
       "        vertical-align: top;\n",
       "    }\n",
       "\n",
       "    .dataframe thead th {\n",
       "        text-align: right;\n",
       "    }\n",
       "</style>\n",
       "<table border=\"1\" class=\"dataframe\">\n",
       "  <thead>\n",
       "    <tr style=\"text-align: right;\">\n",
       "      <th></th>\n",
       "      <th>Rule</th>\n",
       "      <th>Precision</th>\n",
       "      <th>Coverage</th>\n",
       "      <th>Cluster</th>\n",
       "    </tr>\n",
       "  </thead>\n",
       "  <tbody>\n",
       "    <tr>\n",
       "      <th>0</th>\n",
       "      <td>petal_width &gt;= 1.0 AND petal_width &gt;= 1.3 AND ...</td>\n",
       "      <td>1</td>\n",
       "      <td>0.9954535961151123</td>\n",
       "      <td>1</td>\n",
       "    </tr>\n",
       "    <tr>\n",
       "      <th>1</th>\n",
       "      <td>petal_width &gt;= 1.0 AND petal_width &gt;= 1.5 AND ...</td>\n",
       "      <td>1</td>\n",
       "      <td>0.9948582649230957</td>\n",
       "      <td>2</td>\n",
       "    </tr>\n",
       "    <tr>\n",
       "      <th>2</th>\n",
       "      <td>petal_length &lt; 1.9 AND petal_length &lt; 1.7 AND ...</td>\n",
       "      <td>1</td>\n",
       "      <td>0.9940306544303894</td>\n",
       "      <td>0</td>\n",
       "    </tr>\n",
       "    <tr>\n",
       "      <th>3</th>\n",
       "      <td>petal_length &lt; 1.9 AND petal_length &gt;= 1.7 AND...</td>\n",
       "      <td>1</td>\n",
       "      <td>0.9940306544303894</td>\n",
       "      <td>0</td>\n",
       "    </tr>\n",
       "    <tr>\n",
       "      <th>4</th>\n",
       "      <td>petal_length &lt; 1.9 AND petal_length &gt;= 1.7 AND...</td>\n",
       "      <td>1</td>\n",
       "      <td>0.9940306544303894</td>\n",
       "      <td>0</td>\n",
       "    </tr>\n",
       "    <tr>\n",
       "      <th>5</th>\n",
       "      <td>petal_length &gt;= 1.9 AND petal_width &lt; 1.0 AND ...</td>\n",
       "      <td>1</td>\n",
       "      <td>0.9940306544303894</td>\n",
       "      <td>0</td>\n",
       "    </tr>\n",
       "    <tr>\n",
       "      <th>6</th>\n",
       "      <td>petal_length &gt;= 1.9 AND petal_width &lt; 1.0 AND ...</td>\n",
       "      <td>1</td>\n",
       "      <td>0.9940306544303894</td>\n",
       "      <td>0</td>\n",
       "    </tr>\n",
       "    <tr>\n",
       "      <th>7</th>\n",
       "      <td>petal_width &gt;= 1.0 AND petal_width &lt; 1.3 AND s...</td>\n",
       "      <td>1</td>\n",
       "      <td>0.993997298181057</td>\n",
       "      <td>1</td>\n",
       "    </tr>\n",
       "    <tr>\n",
       "      <th>8</th>\n",
       "      <td>petal_width &gt;= 1.0 AND petal_width &lt; 1.5 AND p...</td>\n",
       "      <td>1</td>\n",
       "      <td>0.9882804155349731</td>\n",
       "      <td>1</td>\n",
       "    </tr>\n",
       "    <tr>\n",
       "      <th>9</th>\n",
       "      <td>petal_width &gt;= 1.0 AND sepal_length &lt; 6.4 AND ...</td>\n",
       "      <td>1</td>\n",
       "      <td>0.9873427152633667</td>\n",
       "      <td>1</td>\n",
       "    </tr>\n",
       "    <tr>\n",
       "      <th>10</th>\n",
       "      <td>petal_length &lt; 1.9 AND petal_length &lt; 1.7 AND ...</td>\n",
       "      <td>1</td>\n",
       "      <td>0.985277941593757</td>\n",
       "      <td>0</td>\n",
       "    </tr>\n",
       "    <tr>\n",
       "      <th>11</th>\n",
       "      <td>petal_width &gt;= 1.0 AND sepal_length &lt; 6.4 AND ...</td>\n",
       "      <td>1</td>\n",
       "      <td>0.9762586057186127</td>\n",
       "      <td>1</td>\n",
       "    </tr>\n",
       "    <tr>\n",
       "      <th>12</th>\n",
       "      <td>petal_width &gt;= 1.0 AND petal_width &gt;= 1.5 AND ...</td>\n",
       "      <td>1</td>\n",
       "      <td>0.9701974450088129</td>\n",
       "      <td>2</td>\n",
       "    </tr>\n",
       "    <tr>\n",
       "      <th>13</th>\n",
       "      <td>petal_width &gt;= 1.0 AND petal_width &lt; 1.5 AND p...</td>\n",
       "      <td>1</td>\n",
       "      <td>0.9493608971436819</td>\n",
       "      <td>1</td>\n",
       "    </tr>\n",
       "  </tbody>\n",
       "</table>\n",
       "</div>"
      ],
      "text/plain": [
       "                                                 Rule  Precision  \\\n",
       "0   petal_width >= 1.0 AND petal_width >= 1.3 AND ...          1   \n",
       "1   petal_width >= 1.0 AND petal_width >= 1.5 AND ...          1   \n",
       "2   petal_length < 1.9 AND petal_length < 1.7 AND ...          1   \n",
       "3   petal_length < 1.9 AND petal_length >= 1.7 AND...          1   \n",
       "4   petal_length < 1.9 AND petal_length >= 1.7 AND...          1   \n",
       "5   petal_length >= 1.9 AND petal_width < 1.0 AND ...          1   \n",
       "6   petal_length >= 1.9 AND petal_width < 1.0 AND ...          1   \n",
       "7   petal_width >= 1.0 AND petal_width < 1.3 AND s...          1   \n",
       "8   petal_width >= 1.0 AND petal_width < 1.5 AND p...          1   \n",
       "9   petal_width >= 1.0 AND sepal_length < 6.4 AND ...          1   \n",
       "10  petal_length < 1.9 AND petal_length < 1.7 AND ...          1   \n",
       "11  petal_width >= 1.0 AND sepal_length < 6.4 AND ...          1   \n",
       "12  petal_width >= 1.0 AND petal_width >= 1.5 AND ...          1   \n",
       "13  petal_width >= 1.0 AND petal_width < 1.5 AND p...          1   \n",
       "\n",
       "               Coverage Cluster  \n",
       "0    0.9954535961151123       1  \n",
       "1    0.9948582649230957       2  \n",
       "2    0.9940306544303894       0  \n",
       "3    0.9940306544303894       0  \n",
       "4    0.9940306544303894       0  \n",
       "5    0.9940306544303894       0  \n",
       "6    0.9940306544303894       0  \n",
       "7     0.993997298181057       1  \n",
       "8    0.9882804155349731       1  \n",
       "9    0.9873427152633667       1  \n",
       "10    0.985277941593757       0  \n",
       "11   0.9762586057186127       1  \n",
       "12   0.9701974450088129       2  \n",
       "13   0.9493608971436819       1  "
      ]
     },
     "execution_count": 12,
     "metadata": {},
     "output_type": "execute_result"
    }
   ],
   "source": [
    "#display genarated rules\n",
    "r"
   ]
  },
  {
   "cell_type": "markdown",
   "id": "c8e6952b",
   "metadata": {
    "tags": []
   },
   "source": [
    "# Grid Search CV"
   ]
  },
  {
   "cell_type": "code",
   "execution_count": 13,
   "id": "55444fe5",
   "metadata": {},
   "outputs": [],
   "source": [
    "from sklearn.model_selection import GridSearchCV\n",
    "from sklearn.cluster import Birch"
   ]
  },
  {
   "cell_type": "code",
   "execution_count": 14,
   "id": "9771f379",
   "metadata": {},
   "outputs": [],
   "source": [
    "def scorer(clamp, *args):\n",
    "    clamp.predict(clamp.X_test, clamp.y_test)\n",
    "    return {'f1': clamp.explainer_f1, 'accuracy': clamp.explainer_accuracy, 'precision': clamp.explainer_precision}"
   ]
  },
  {
   "cell_type": "code",
   "execution_count": 14,
   "id": "1fb906eb",
   "metadata": {
    "tags": []
   },
   "outputs": [],
   "source": [
    "parameters = [{\n",
    "                'bounding_box_selection': ['random', 'centroids', 'outliers', 'tree_query'],\n",
    "                'description_points_ratio': [2, 4, 8, 13],\n",
    "                'test_size': [0.2],\n",
    "                'thresh':[0.9],\n",
    "                'explainer_type': ['lux'],\n",
    "                'neighborhood_size':  [20],\n",
    "                'max_depth': [2, 4, 5]\n",
    "},\n",
    "            {\n",
    "                'explainer_type': ['global'],\n",
    "                'description_points_ratio': [2,4,8,13],\n",
    "                'test_size': [0.25]\n",
    "}, \n",
    "                { \n",
    "                'description_points_ratio': [2, 4, 8, 13],\n",
    "                'test_size': [0.2],\n",
    "                'thresh':[0.9],\n",
    "                'explainer_type': ['lux'],\n",
    "                'approach': ['other'],\n",
    "                'neighborhood_size':  [20],\n",
    "                'max_depth': [2, 4, 5]\n",
    "}]\n"
   ]
  },
  {
   "cell_type": "code",
   "execution_count": 15,
   "id": "e2eba2dd",
   "metadata": {},
   "outputs": [],
   "source": [
    "list_of_choosen_datasets = [\n",
    "    'ecoli.csv',\n",
    "    'lymphography.csv',\n",
    "    'glass.csv',\n",
    "    'balance.csv',\n",
    "    'breast_tissue.csv',\n",
    "    'primary_tumor.csv',\n",
    "    'vote.csv',\n",
    "    'ionosphere.csv',\n",
    "    'cmc.csv',\n",
    "    'bupa.csv']"
   ]
  },
  {
   "cell_type": "code",
   "execution_count": 16,
   "id": "c4240f40",
   "metadata": {
    "tags": []
   },
   "outputs": [],
   "source": [
    "list_of_clusters = []\n",
    "for data in list_of_choosen_datasets:\n",
    "    list_of_clusters.append(len(pd.read_csv('synthetic_datasets/'+data)['y'].unique()))"
   ]
  },
  {
   "cell_type": "code",
   "execution_count": null,
   "id": "aa60e13f",
   "metadata": {
    "tags": []
   },
   "outputs": [
    {
     "name": "stdout",
     "output_type": "stream",
     "text": [
      "Dataset: ecoli.csv\n"
     ]
    },
    {
     "ename": "ValueError",
     "evalue": "Expected n_neighbors <= n_samples,  but n_samples = 2, n_neighbors = 20",
     "output_type": "error",
     "traceback": [
      "\u001b[0;31m---------------------------------------------------------------------------\u001b[0m",
      "\u001b[0;31m_RemoteTraceback\u001b[0m                          Traceback (most recent call last)",
      "\u001b[0;31m_RemoteTraceback\u001b[0m: \n\"\"\"\nTraceback (most recent call last):\n  File \"/home/sbk/anaconda3/envs/clampenv/lib/python3.8/site-packages/joblib/externals/loky/process_executor.py\", line 436, in _process_worker\n    r = call_item()\n  File \"/home/sbk/anaconda3/envs/clampenv/lib/python3.8/site-packages/joblib/externals/loky/process_executor.py\", line 288, in __call__\n    return self.fn(*self.args, **self.kwargs)\n  File \"/home/sbk/anaconda3/envs/clampenv/lib/python3.8/site-packages/joblib/_parallel_backends.py\", line 595, in __call__\n    return self.func(*args, **kwargs)\n  File \"/home/sbk/anaconda3/envs/clampenv/lib/python3.8/site-packages/joblib/parallel.py\", line 262, in __call__\n    return [func(*args, **kwargs)\n  File \"/home/sbk/anaconda3/envs/clampenv/lib/python3.8/site-packages/joblib/parallel.py\", line 262, in <listcomp>\n    return [func(*args, **kwargs)\n  File \"/home/sbk/anaconda3/envs/clampenv/lib/python3.8/site-packages/sklearn/utils/fixes.py\", line 117, in __call__\n    return self.function(*args, **kwargs)\n  File \"/home/sbk/anaconda3/envs/clampenv/lib/python3.8/site-packages/sklearn/model_selection/_validation.py\", line 686, in _fit_and_score\n    estimator.fit(X_train, y_train, **fit_params)\n  File \"/home/sbk/Software/clamp/clamp/clamp.py\", line 444, in fit\n    self.explainer.fit(self.X_train, self.y_train, self.df_model_input.iloc[:,:-1].to_numpy(), features = self.features, class_names=self.class_names)\n  File \"/home/sbk/Software/clamp/clamp/clamp.py\", line 255, in fit\n    LUX.fit(self,X,y, instance_to_explain, exclude_neighbourhood=False, use_parity=True,class_names=None)\n  File \"/home/sbk/Software/clamp/./clamp/lux/lux/lux.py\", line 40, in fit\n    return self.fit_bounding_boxes(X=X,y=y,boundiong_box_points=instance_to_explain,exclude_neighbourhood=exclude_neighbourhood, use_parity=use_parity,class_names=class_names)\n  File \"/home/sbk/Software/clamp/./clamp/lux/lux/lux.py\", line 56, in fit_bounding_boxes\n    X_train_sample = self.__create_sample_bb(X,y,boundiong_box_points,exclude_neighbourhood=exclude_neighbourhood, use_parity=use_parity,class_names=class_names)\n  File \"/home/sbk/Software/clamp/./clamp/lux/lux/lux.py\", line 79, in __create_sample_bb\n    _,ids_c = nn.kneighbors(np.array(instance_to_explain).reshape(1,-1))\n  File \"/home/sbk/anaconda3/envs/clampenv/lib/python3.8/site-packages/sklearn/neighbors/_base.py\", line 749, in kneighbors\n    raise ValueError(\nValueError: Expected n_neighbors <= n_samples,  but n_samples = 2, n_neighbors = 20\n\"\"\"",
      "\nThe above exception was the direct cause of the following exception:\n",
      "\u001b[0;31mValueError\u001b[0m                                Traceback (most recent call last)",
      "File \u001b[0;32m<timed exec>:18\u001b[0m, in \u001b[0;36m<module>\u001b[0;34m\u001b[0m\n",
      "File \u001b[0;32m~/anaconda3/envs/clampenv/lib/python3.8/site-packages/sklearn/model_selection/_search.py:875\u001b[0m, in \u001b[0;36mBaseSearchCV.fit\u001b[0;34m(self, X, y, groups, **fit_params)\u001b[0m\n\u001b[1;32m    869\u001b[0m     results \u001b[38;5;241m=\u001b[39m \u001b[38;5;28mself\u001b[39m\u001b[38;5;241m.\u001b[39m_format_results(\n\u001b[1;32m    870\u001b[0m         all_candidate_params, n_splits, all_out, all_more_results\n\u001b[1;32m    871\u001b[0m     )\n\u001b[1;32m    873\u001b[0m     \u001b[38;5;28;01mreturn\u001b[39;00m results\n\u001b[0;32m--> 875\u001b[0m \u001b[38;5;28;43mself\u001b[39;49m\u001b[38;5;241;43m.\u001b[39;49m\u001b[43m_run_search\u001b[49m\u001b[43m(\u001b[49m\u001b[43mevaluate_candidates\u001b[49m\u001b[43m)\u001b[49m\n\u001b[1;32m    877\u001b[0m \u001b[38;5;66;03m# multimetric is determined here because in the case of a callable\u001b[39;00m\n\u001b[1;32m    878\u001b[0m \u001b[38;5;66;03m# self.scoring the return type is only known after calling\u001b[39;00m\n\u001b[1;32m    879\u001b[0m first_test_score \u001b[38;5;241m=\u001b[39m all_out[\u001b[38;5;241m0\u001b[39m][\u001b[38;5;124m\"\u001b[39m\u001b[38;5;124mtest_scores\u001b[39m\u001b[38;5;124m\"\u001b[39m]\n",
      "File \u001b[0;32m~/anaconda3/envs/clampenv/lib/python3.8/site-packages/sklearn/model_selection/_search.py:1375\u001b[0m, in \u001b[0;36mGridSearchCV._run_search\u001b[0;34m(self, evaluate_candidates)\u001b[0m\n\u001b[1;32m   1373\u001b[0m \u001b[38;5;28;01mdef\u001b[39;00m \u001b[38;5;21m_run_search\u001b[39m(\u001b[38;5;28mself\u001b[39m, evaluate_candidates):\n\u001b[1;32m   1374\u001b[0m     \u001b[38;5;124;03m\"\"\"Search all candidates in param_grid\"\"\"\u001b[39;00m\n\u001b[0;32m-> 1375\u001b[0m     \u001b[43mevaluate_candidates\u001b[49m\u001b[43m(\u001b[49m\u001b[43mParameterGrid\u001b[49m\u001b[43m(\u001b[49m\u001b[38;5;28;43mself\u001b[39;49m\u001b[38;5;241;43m.\u001b[39;49m\u001b[43mparam_grid\u001b[49m\u001b[43m)\u001b[49m\u001b[43m)\u001b[49m\n",
      "File \u001b[0;32m~/anaconda3/envs/clampenv/lib/python3.8/site-packages/sklearn/model_selection/_search.py:822\u001b[0m, in \u001b[0;36mBaseSearchCV.fit.<locals>.evaluate_candidates\u001b[0;34m(candidate_params, cv, more_results)\u001b[0m\n\u001b[1;32m    814\u001b[0m \u001b[38;5;28;01mif\u001b[39;00m \u001b[38;5;28mself\u001b[39m\u001b[38;5;241m.\u001b[39mverbose \u001b[38;5;241m>\u001b[39m \u001b[38;5;241m0\u001b[39m:\n\u001b[1;32m    815\u001b[0m     \u001b[38;5;28mprint\u001b[39m(\n\u001b[1;32m    816\u001b[0m         \u001b[38;5;124m\"\u001b[39m\u001b[38;5;124mFitting \u001b[39m\u001b[38;5;132;01m{0}\u001b[39;00m\u001b[38;5;124m folds for each of \u001b[39m\u001b[38;5;132;01m{1}\u001b[39;00m\u001b[38;5;124m candidates,\u001b[39m\u001b[38;5;124m\"\u001b[39m\n\u001b[1;32m    817\u001b[0m         \u001b[38;5;124m\"\u001b[39m\u001b[38;5;124m totalling \u001b[39m\u001b[38;5;132;01m{2}\u001b[39;00m\u001b[38;5;124m fits\u001b[39m\u001b[38;5;124m\"\u001b[39m\u001b[38;5;241m.\u001b[39mformat(\n\u001b[1;32m    818\u001b[0m             n_splits, n_candidates, n_candidates \u001b[38;5;241m*\u001b[39m n_splits\n\u001b[1;32m    819\u001b[0m         )\n\u001b[1;32m    820\u001b[0m     )\n\u001b[0;32m--> 822\u001b[0m out \u001b[38;5;241m=\u001b[39m \u001b[43mparallel\u001b[49m\u001b[43m(\u001b[49m\n\u001b[1;32m    823\u001b[0m \u001b[43m    \u001b[49m\u001b[43mdelayed\u001b[49m\u001b[43m(\u001b[49m\u001b[43m_fit_and_score\u001b[49m\u001b[43m)\u001b[49m\u001b[43m(\u001b[49m\n\u001b[1;32m    824\u001b[0m \u001b[43m        \u001b[49m\u001b[43mclone\u001b[49m\u001b[43m(\u001b[49m\u001b[43mbase_estimator\u001b[49m\u001b[43m)\u001b[49m\u001b[43m,\u001b[49m\n\u001b[1;32m    825\u001b[0m \u001b[43m        \u001b[49m\u001b[43mX\u001b[49m\u001b[43m,\u001b[49m\n\u001b[1;32m    826\u001b[0m \u001b[43m        \u001b[49m\u001b[43my\u001b[49m\u001b[43m,\u001b[49m\n\u001b[1;32m    827\u001b[0m \u001b[43m        \u001b[49m\u001b[43mtrain\u001b[49m\u001b[38;5;241;43m=\u001b[39;49m\u001b[43mtrain\u001b[49m\u001b[43m,\u001b[49m\n\u001b[1;32m    828\u001b[0m \u001b[43m        \u001b[49m\u001b[43mtest\u001b[49m\u001b[38;5;241;43m=\u001b[39;49m\u001b[43mtest\u001b[49m\u001b[43m,\u001b[49m\n\u001b[1;32m    829\u001b[0m \u001b[43m        \u001b[49m\u001b[43mparameters\u001b[49m\u001b[38;5;241;43m=\u001b[39;49m\u001b[43mparameters\u001b[49m\u001b[43m,\u001b[49m\n\u001b[1;32m    830\u001b[0m \u001b[43m        \u001b[49m\u001b[43msplit_progress\u001b[49m\u001b[38;5;241;43m=\u001b[39;49m\u001b[43m(\u001b[49m\u001b[43msplit_idx\u001b[49m\u001b[43m,\u001b[49m\u001b[43m \u001b[49m\u001b[43mn_splits\u001b[49m\u001b[43m)\u001b[49m\u001b[43m,\u001b[49m\n\u001b[1;32m    831\u001b[0m \u001b[43m        \u001b[49m\u001b[43mcandidate_progress\u001b[49m\u001b[38;5;241;43m=\u001b[39;49m\u001b[43m(\u001b[49m\u001b[43mcand_idx\u001b[49m\u001b[43m,\u001b[49m\u001b[43m \u001b[49m\u001b[43mn_candidates\u001b[49m\u001b[43m)\u001b[49m\u001b[43m,\u001b[49m\n\u001b[1;32m    832\u001b[0m \u001b[43m        \u001b[49m\u001b[38;5;241;43m*\u001b[39;49m\u001b[38;5;241;43m*\u001b[39;49m\u001b[43mfit_and_score_kwargs\u001b[49m\u001b[43m,\u001b[49m\n\u001b[1;32m    833\u001b[0m \u001b[43m    \u001b[49m\u001b[43m)\u001b[49m\n\u001b[1;32m    834\u001b[0m \u001b[43m    \u001b[49m\u001b[38;5;28;43;01mfor\u001b[39;49;00m\u001b[43m \u001b[49m\u001b[43m(\u001b[49m\u001b[43mcand_idx\u001b[49m\u001b[43m,\u001b[49m\u001b[43m \u001b[49m\u001b[43mparameters\u001b[49m\u001b[43m)\u001b[49m\u001b[43m,\u001b[49m\u001b[43m \u001b[49m\u001b[43m(\u001b[49m\u001b[43msplit_idx\u001b[49m\u001b[43m,\u001b[49m\u001b[43m \u001b[49m\u001b[43m(\u001b[49m\u001b[43mtrain\u001b[49m\u001b[43m,\u001b[49m\u001b[43m \u001b[49m\u001b[43mtest\u001b[49m\u001b[43m)\u001b[49m\u001b[43m)\u001b[49m\u001b[43m \u001b[49m\u001b[38;5;129;43;01min\u001b[39;49;00m\u001b[43m \u001b[49m\u001b[43mproduct\u001b[49m\u001b[43m(\u001b[49m\n\u001b[1;32m    835\u001b[0m \u001b[43m        \u001b[49m\u001b[38;5;28;43menumerate\u001b[39;49m\u001b[43m(\u001b[49m\u001b[43mcandidate_params\u001b[49m\u001b[43m)\u001b[49m\u001b[43m,\u001b[49m\u001b[43m \u001b[49m\u001b[38;5;28;43menumerate\u001b[39;49m\u001b[43m(\u001b[49m\u001b[43mcv\u001b[49m\u001b[38;5;241;43m.\u001b[39;49m\u001b[43msplit\u001b[49m\u001b[43m(\u001b[49m\u001b[43mX\u001b[49m\u001b[43m,\u001b[49m\u001b[43m \u001b[49m\u001b[43my\u001b[49m\u001b[43m,\u001b[49m\u001b[43m \u001b[49m\u001b[43mgroups\u001b[49m\u001b[43m)\u001b[49m\u001b[43m)\u001b[49m\n\u001b[1;32m    836\u001b[0m \u001b[43m    \u001b[49m\u001b[43m)\u001b[49m\n\u001b[1;32m    837\u001b[0m \u001b[43m\u001b[49m\u001b[43m)\u001b[49m\n\u001b[1;32m    839\u001b[0m \u001b[38;5;28;01mif\u001b[39;00m \u001b[38;5;28mlen\u001b[39m(out) \u001b[38;5;241m<\u001b[39m \u001b[38;5;241m1\u001b[39m:\n\u001b[1;32m    840\u001b[0m     \u001b[38;5;28;01mraise\u001b[39;00m \u001b[38;5;167;01mValueError\u001b[39;00m(\n\u001b[1;32m    841\u001b[0m         \u001b[38;5;124m\"\u001b[39m\u001b[38;5;124mNo fits were performed. \u001b[39m\u001b[38;5;124m\"\u001b[39m\n\u001b[1;32m    842\u001b[0m         \u001b[38;5;124m\"\u001b[39m\u001b[38;5;124mWas the CV iterator empty? \u001b[39m\u001b[38;5;124m\"\u001b[39m\n\u001b[1;32m    843\u001b[0m         \u001b[38;5;124m\"\u001b[39m\u001b[38;5;124mWere there no candidates?\u001b[39m\u001b[38;5;124m\"\u001b[39m\n\u001b[1;32m    844\u001b[0m     )\n",
      "File \u001b[0;32m~/anaconda3/envs/clampenv/lib/python3.8/site-packages/joblib/parallel.py:1056\u001b[0m, in \u001b[0;36mParallel.__call__\u001b[0;34m(self, iterable)\u001b[0m\n\u001b[1;32m   1053\u001b[0m     \u001b[38;5;28mself\u001b[39m\u001b[38;5;241m.\u001b[39m_iterating \u001b[38;5;241m=\u001b[39m \u001b[38;5;28;01mFalse\u001b[39;00m\n\u001b[1;32m   1055\u001b[0m \u001b[38;5;28;01mwith\u001b[39;00m \u001b[38;5;28mself\u001b[39m\u001b[38;5;241m.\u001b[39m_backend\u001b[38;5;241m.\u001b[39mretrieval_context():\n\u001b[0;32m-> 1056\u001b[0m     \u001b[38;5;28;43mself\u001b[39;49m\u001b[38;5;241;43m.\u001b[39;49m\u001b[43mretrieve\u001b[49m\u001b[43m(\u001b[49m\u001b[43m)\u001b[49m\n\u001b[1;32m   1057\u001b[0m \u001b[38;5;66;03m# Make sure that we get a last message telling us we are done\u001b[39;00m\n\u001b[1;32m   1058\u001b[0m elapsed_time \u001b[38;5;241m=\u001b[39m time\u001b[38;5;241m.\u001b[39mtime() \u001b[38;5;241m-\u001b[39m \u001b[38;5;28mself\u001b[39m\u001b[38;5;241m.\u001b[39m_start_time\n",
      "File \u001b[0;32m~/anaconda3/envs/clampenv/lib/python3.8/site-packages/joblib/parallel.py:935\u001b[0m, in \u001b[0;36mParallel.retrieve\u001b[0;34m(self)\u001b[0m\n\u001b[1;32m    933\u001b[0m \u001b[38;5;28;01mtry\u001b[39;00m:\n\u001b[1;32m    934\u001b[0m     \u001b[38;5;28;01mif\u001b[39;00m \u001b[38;5;28mgetattr\u001b[39m(\u001b[38;5;28mself\u001b[39m\u001b[38;5;241m.\u001b[39m_backend, \u001b[38;5;124m'\u001b[39m\u001b[38;5;124msupports_timeout\u001b[39m\u001b[38;5;124m'\u001b[39m, \u001b[38;5;28;01mFalse\u001b[39;00m):\n\u001b[0;32m--> 935\u001b[0m         \u001b[38;5;28mself\u001b[39m\u001b[38;5;241m.\u001b[39m_output\u001b[38;5;241m.\u001b[39mextend(\u001b[43mjob\u001b[49m\u001b[38;5;241;43m.\u001b[39;49m\u001b[43mget\u001b[49m\u001b[43m(\u001b[49m\u001b[43mtimeout\u001b[49m\u001b[38;5;241;43m=\u001b[39;49m\u001b[38;5;28;43mself\u001b[39;49m\u001b[38;5;241;43m.\u001b[39;49m\u001b[43mtimeout\u001b[49m\u001b[43m)\u001b[49m)\n\u001b[1;32m    936\u001b[0m     \u001b[38;5;28;01melse\u001b[39;00m:\n\u001b[1;32m    937\u001b[0m         \u001b[38;5;28mself\u001b[39m\u001b[38;5;241m.\u001b[39m_output\u001b[38;5;241m.\u001b[39mextend(job\u001b[38;5;241m.\u001b[39mget())\n",
      "File \u001b[0;32m~/anaconda3/envs/clampenv/lib/python3.8/site-packages/joblib/_parallel_backends.py:542\u001b[0m, in \u001b[0;36mLokyBackend.wrap_future_result\u001b[0;34m(future, timeout)\u001b[0m\n\u001b[1;32m    539\u001b[0m \u001b[38;5;124;03m\"\"\"Wrapper for Future.result to implement the same behaviour as\u001b[39;00m\n\u001b[1;32m    540\u001b[0m \u001b[38;5;124;03mAsyncResults.get from multiprocessing.\"\"\"\u001b[39;00m\n\u001b[1;32m    541\u001b[0m \u001b[38;5;28;01mtry\u001b[39;00m:\n\u001b[0;32m--> 542\u001b[0m     \u001b[38;5;28;01mreturn\u001b[39;00m \u001b[43mfuture\u001b[49m\u001b[38;5;241;43m.\u001b[39;49m\u001b[43mresult\u001b[49m\u001b[43m(\u001b[49m\u001b[43mtimeout\u001b[49m\u001b[38;5;241;43m=\u001b[39;49m\u001b[43mtimeout\u001b[49m\u001b[43m)\u001b[49m\n\u001b[1;32m    543\u001b[0m \u001b[38;5;28;01mexcept\u001b[39;00m CfTimeoutError \u001b[38;5;28;01mas\u001b[39;00m e:\n\u001b[1;32m    544\u001b[0m     \u001b[38;5;28;01mraise\u001b[39;00m \u001b[38;5;167;01mTimeoutError\u001b[39;00m \u001b[38;5;28;01mfrom\u001b[39;00m \u001b[38;5;21;01me\u001b[39;00m\n",
      "File \u001b[0;32m~/anaconda3/envs/clampenv/lib/python3.8/concurrent/futures/_base.py:444\u001b[0m, in \u001b[0;36mFuture.result\u001b[0;34m(self, timeout)\u001b[0m\n\u001b[1;32m    442\u001b[0m     \u001b[38;5;28;01mraise\u001b[39;00m CancelledError()\n\u001b[1;32m    443\u001b[0m \u001b[38;5;28;01melif\u001b[39;00m \u001b[38;5;28mself\u001b[39m\u001b[38;5;241m.\u001b[39m_state \u001b[38;5;241m==\u001b[39m FINISHED:\n\u001b[0;32m--> 444\u001b[0m     \u001b[38;5;28;01mreturn\u001b[39;00m \u001b[38;5;28;43mself\u001b[39;49m\u001b[38;5;241;43m.\u001b[39;49m\u001b[43m__get_result\u001b[49m\u001b[43m(\u001b[49m\u001b[43m)\u001b[49m\n\u001b[1;32m    445\u001b[0m \u001b[38;5;28;01melse\u001b[39;00m:\n\u001b[1;32m    446\u001b[0m     \u001b[38;5;28;01mraise\u001b[39;00m \u001b[38;5;167;01mTimeoutError\u001b[39;00m()\n",
      "File \u001b[0;32m~/anaconda3/envs/clampenv/lib/python3.8/concurrent/futures/_base.py:389\u001b[0m, in \u001b[0;36mFuture.__get_result\u001b[0;34m(self)\u001b[0m\n\u001b[1;32m    387\u001b[0m \u001b[38;5;28;01mif\u001b[39;00m \u001b[38;5;28mself\u001b[39m\u001b[38;5;241m.\u001b[39m_exception:\n\u001b[1;32m    388\u001b[0m     \u001b[38;5;28;01mtry\u001b[39;00m:\n\u001b[0;32m--> 389\u001b[0m         \u001b[38;5;28;01mraise\u001b[39;00m \u001b[38;5;28mself\u001b[39m\u001b[38;5;241m.\u001b[39m_exception\n\u001b[1;32m    390\u001b[0m     \u001b[38;5;28;01mfinally\u001b[39;00m:\n\u001b[1;32m    391\u001b[0m         \u001b[38;5;66;03m# Break a reference cycle with the exception in self._exception\u001b[39;00m\n\u001b[1;32m    392\u001b[0m         \u001b[38;5;28mself\u001b[39m \u001b[38;5;241m=\u001b[39m \u001b[38;5;28;01mNone\u001b[39;00m\n",
      "\u001b[0;31mValueError\u001b[0m: Expected n_neighbors <= n_samples,  but n_samples = 2, n_neighbors = 20"
     ]
    }
   ],
   "source": [
    "%%time\n",
    "from sklearn.preprocessing import LabelEncoder\n",
    "#parameter settings as described above\n",
    "cv_restuls = []\n",
    "cv_datasets = []\n",
    "\n",
    "for dataset,cluster_number in zip(list_of_choosen_datasets, list_of_clusters):\n",
    "    data = pd.read_csv('synthetic_datasets/'+dataset)\n",
    "    data.dropna(inplace = True)\n",
    "    data.reset_index(drop = True, inplace = True)\n",
    "    le = LabelEncoder()\n",
    "    labels = le.fit_transform(data['y']) #label encode it\n",
    "    data = data.drop('y', axis = 1)\n",
    "    print(f'Dataset: {dataset}')\n",
    "    \n",
    "    clamp = CLAMP(clusterng_algorithm = KMeans(n_clusters = cluster_number), classification_model = xgb.XGBClassifier())\n",
    "    \n",
    "    clf = GridSearchCV(clamp, parameters, scoring = scorer, cv = 10, refit = 'accuracy', n_jobs = 20, error_score = 'raise')\n",
    "    clf.fit(data, labels)\n",
    "    \n",
    "    cv_restuls.append(clf.cv_results_)\n",
    "    cv_datasets.append(dataset)\n",
    "    with open('art_results-'+str(dataset.split('.')[0]) +'.pickle', 'wb') as f:\n",
    "        pickle.dump([cv_restuls, cv_datasets], f)\n",
    "    rem_hmr_files()"
   ]
  },
  {
   "cell_type": "code",
   "execution_count": 19,
   "id": "1a396a12",
   "metadata": {},
   "outputs": [],
   "source": [
    "rem_hmr_files()"
   ]
  },
  {
   "cell_type": "code",
   "execution_count": null,
   "id": "085387c2-b15b-452d-8a6f-9e2628fb3d93",
   "metadata": {},
   "outputs": [],
   "source": []
  },
  {
   "cell_type": "code",
   "execution_count": null,
   "id": "88ccc1c7-f36b-4c43-a2b1-a3c75145ad4d",
   "metadata": {},
   "outputs": [],
   "source": []
  },
  {
   "cell_type": "code",
   "execution_count": null,
   "id": "0c04afb3-2fea-48a4-b082-536e5acf2f47",
   "metadata": {},
   "outputs": [],
   "source": []
  },
  {
   "cell_type": "code",
   "execution_count": null,
   "id": "8d9e30c3-e1c3-46b0-a744-7e21bdf7351a",
   "metadata": {},
   "outputs": [],
   "source": []
  }
 ],
 "metadata": {
  "kernelspec": {
   "display_name": "Python 3 (ipykernel)",
   "language": "python",
   "name": "python3"
  },
  "language_info": {
   "codemirror_mode": {
    "name": "ipython",
    "version": 3
   },
   "file_extension": ".py",
   "mimetype": "text/x-python",
   "name": "python",
   "nbconvert_exporter": "python",
   "pygments_lexer": "ipython3",
   "version": "3.8.13"
  }
 },
 "nbformat": 4,
 "nbformat_minor": 5
}
