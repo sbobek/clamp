{
 "cells": [
  {
   "cell_type": "code",
   "execution_count": 1,
   "id": "3c440dbc-740e-4e4a-b975-886d08da1406",
   "metadata": {},
   "outputs": [],
   "source": [
    "import sys\n",
    "sys.path.append('./clamp/lux/pyuid3')\n",
    "sys.path.append('./clamp/lux/lux')"
   ]
  },
  {
   "cell_type": "code",
   "execution_count": 2,
   "id": "741817c7",
   "metadata": {},
   "outputs": [],
   "source": [
    "from clamp.clamp import *\n",
    "import sklearn\n",
    "import pandas as pd\n",
    "import numpy as np\n",
    "#import xgboost as xgb\n",
    "from sklearn.ensemble import RandomForestClassifier\n",
    "import pickle\n",
    "import re\n",
    "import math\n",
    "import warnings\n",
    "import os\n",
    "import math\n",
    "import matplotlib.pyplot as plt\n",
    "import socket\n",
    "import tempfile\n",
    "warnings.filterwarnings('ignore')"
   ]
  },
  {
   "cell_type": "code",
   "execution_count": 3,
   "id": "364346ce",
   "metadata": {},
   "outputs": [],
   "source": [
    "'''\n",
    "In console run:\n",
    "java -jar HMRServer.jar <numer_portu> <ilosc_watkow> e.g.\n",
    "java -jar HMRServer.jar 9999 24\n",
    "'''\n",
    "\n",
    "HOST = \"127.0.0.1\" #\"127.0.0.1\"  # The server's hostname or IP address\n",
    "PORT = 9999 # The port used by the server\n",
    "\n",
    "def queryHRTDServer(query,max_msg_size=1024):\n",
    "    query+='\\n'\n",
    "    with socket.socket(socket.AF_INET, socket.SOCK_STREAM) as s:\n",
    "        s.connect((HOST, PORT))\n",
    "        s.sendall(bytes(query,'UTF8'))\n",
    "        fragments = []\n",
    "        while True: \n",
    "            chunk = s.recv(max_msg_size)\n",
    "            if not chunk: \n",
    "                break\n",
    "            fragments.append(chunk)\n",
    "        arr = b''.join(fragments)\n",
    "    return arr.decode('UTF8')\n",
    "\n",
    "def rem_hmr_files():\n",
    "    for x in os.listdir():\n",
    "        if x.endswith(\".hmr\"):\n",
    "            os.remove(x)"
   ]
  },
  {
   "cell_type": "markdown",
   "id": "d39ad4cf",
   "metadata": {},
   "source": [
    "# Example based on iris dataset without crossvalidation"
   ]
  },
  {
   "cell_type": "code",
   "execution_count": 4,
   "id": "d350a508",
   "metadata": {
    "tags": []
   },
   "outputs": [],
   "source": [
    "from sklearn import datasets\n",
    "iris = datasets.load_iris()\n",
    "features = ['sepal_length','sepal_width','petal_length','petal_width']\n",
    "target = 'calss'\n",
    "\n",
    "#create daatframe with columns names as strings (LUX accepts only DataFrames withj string columns names)\n",
    "dataset = pd.DataFrame(iris.data,columns=features)\n",
    "dataset[target] = iris.target\n"
   ]
  },
  {
   "cell_type": "code",
   "execution_count": 5,
   "id": "6ebfd03a",
   "metadata": {
    "tags": []
   },
   "outputs": [],
   "source": [
    "\n",
    "data = dataset.drop(target, axis = 1)\n",
    "\n",
    "# labels were removed because one of the clamp's feature is to make clustering, \n",
    "# however if necessary you can pass labels in fit function and then clustring stage will be omitted"
   ]
  },
  {
   "cell_type": "code",
   "execution_count": 6,
   "id": "1a31e8f0",
   "metadata": {
    "tags": []
   },
   "outputs": [
    {
     "data": {
      "text/html": [
       "<div>\n",
       "<style scoped>\n",
       "    .dataframe tbody tr th:only-of-type {\n",
       "        vertical-align: middle;\n",
       "    }\n",
       "\n",
       "    .dataframe tbody tr th {\n",
       "        vertical-align: top;\n",
       "    }\n",
       "\n",
       "    .dataframe thead th {\n",
       "        text-align: right;\n",
       "    }\n",
       "</style>\n",
       "<table border=\"1\" class=\"dataframe\">\n",
       "  <thead>\n",
       "    <tr style=\"text-align: right;\">\n",
       "      <th></th>\n",
       "      <th>sepal_length</th>\n",
       "      <th>sepal_width</th>\n",
       "      <th>petal_length</th>\n",
       "      <th>petal_width</th>\n",
       "    </tr>\n",
       "  </thead>\n",
       "  <tbody>\n",
       "    <tr>\n",
       "      <th>0</th>\n",
       "      <td>5.1</td>\n",
       "      <td>3.5</td>\n",
       "      <td>1.4</td>\n",
       "      <td>0.2</td>\n",
       "    </tr>\n",
       "    <tr>\n",
       "      <th>1</th>\n",
       "      <td>4.9</td>\n",
       "      <td>3.0</td>\n",
       "      <td>1.4</td>\n",
       "      <td>0.2</td>\n",
       "    </tr>\n",
       "    <tr>\n",
       "      <th>2</th>\n",
       "      <td>4.7</td>\n",
       "      <td>3.2</td>\n",
       "      <td>1.3</td>\n",
       "      <td>0.2</td>\n",
       "    </tr>\n",
       "    <tr>\n",
       "      <th>3</th>\n",
       "      <td>4.6</td>\n",
       "      <td>3.1</td>\n",
       "      <td>1.5</td>\n",
       "      <td>0.2</td>\n",
       "    </tr>\n",
       "    <tr>\n",
       "      <th>4</th>\n",
       "      <td>5.0</td>\n",
       "      <td>3.6</td>\n",
       "      <td>1.4</td>\n",
       "      <td>0.2</td>\n",
       "    </tr>\n",
       "  </tbody>\n",
       "</table>\n",
       "</div>"
      ],
      "text/plain": [
       "   sepal_length  sepal_width  petal_length  petal_width\n",
       "0           5.1          3.5           1.4          0.2\n",
       "1           4.9          3.0           1.4          0.2\n",
       "2           4.7          3.2           1.3          0.2\n",
       "3           4.6          3.1           1.5          0.2\n",
       "4           5.0          3.6           1.4          0.2"
      ]
     },
     "execution_count": 6,
     "metadata": {},
     "output_type": "execute_result"
    }
   ],
   "source": [
    "data.head()"
   ]
  },
  {
   "cell_type": "code",
   "execution_count": 7,
   "id": "8484bbe6",
   "metadata": {
    "tags": []
   },
   "outputs": [],
   "source": [
    "clamp = CLAMP(clusterng_algorithm = KMeans(n_clusters = 3), \n",
    "                classification_model = xgb.XGBClassifier(), \n",
    "                description_points_ratio=5,\n",
    "                test_size = 0.1,\n",
    "                metric = 'minkowski',\n",
    "                thresh = 0.9, \n",
    "                bounding_box_selection ='random',\n",
    "                explainer_type = 'lux',\n",
    "                approach = 'other')\n",
    "#parameters to adjust there is also possibility to change clustering algorithm and classification model\n",
    "# available bounding_box_selection parameter: centroids, outliers, tree_query, random"
   ]
  },
  {
   "cell_type": "code",
   "execution_count": 8,
   "id": "05413531",
   "metadata": {
    "tags": []
   },
   "outputs": [
    {
     "name": "stdout",
     "output_type": "stream",
     "text": [
      "Data without labels, clustering stage implementation\n",
      "Brute approach, choosen data description skipped. All cases will be checked.\n",
      "Method:  random\n",
      "Lux explainer\n",
      "Accuracy: 0.6666666666666666\n",
      "Method:  centroids\n",
      "Lux explainer\n",
      "Accuracy: 0.6\n",
      "Method:  outliers\n",
      "Lux explainer\n",
      "Accuracy: 0.9333333333333333\n",
      "Method:  tree_query\n",
      "Lux explainer\n",
      "Accuracy: 0.6666666666666666\n"
     ]
    }
   ],
   "source": [
    "#clamp.fit(data, labels) -- this one is for data with labels\n",
    "clamp.fit(data) # -- this one is for data without labels\n",
    "\n",
    "#the dataset has been splited in to train and test dataset, train dataset in provided to anchor to generate rules based on boundingbox method and test dataset is saved to run predict method (check below)"
   ]
  },
  {
   "cell_type": "code",
   "execution_count": 9,
   "id": "a1127b85",
   "metadata": {
    "tags": []
   },
   "outputs": [
    {
     "name": "stdout",
     "output_type": "stream",
     "text": [
      "Accuracy: 0.6666666666666666\n"
     ]
    }
   ],
   "source": [
    "predict = clamp.predict(clamp.X_test, clamp.y_test) #labels generation based on the test dataset in generated rules in previous step"
   ]
  },
  {
   "cell_type": "code",
   "execution_count": 10,
   "id": "e1384119",
   "metadata": {
    "tags": []
   },
   "outputs": [
    {
     "name": "stdout",
     "output_type": "stream",
     "text": [
      "0.6666666666666666\n"
     ]
    }
   ],
   "source": [
    "print(clamp.explainer_accuracy) \n",
    "#score calculation (comparison labels from test dataset and those predicted by the clamp -- previous step)\n",
    "#available: explainer_f1, explainer_accuracy, explainer_classification_report, explainer_recall"
   ]
  },
  {
   "cell_type": "code",
   "execution_count": 11,
   "id": "3a593aca",
   "metadata": {
    "tags": []
   },
   "outputs": [],
   "source": [
    "r = clamp.justify()\n",
    "r\n",
    "rem_hmr_files() # remove temp hmr files\n"
   ]
  },
  {
   "cell_type": "code",
   "execution_count": 15,
   "id": "d60a7723-35b6-41fb-81b9-f5fba25b1e13",
   "metadata": {},
   "outputs": [
    {
     "data": {
      "text/html": [
       "<div>\n",
       "<style scoped>\n",
       "    .dataframe tbody tr th:only-of-type {\n",
       "        vertical-align: middle;\n",
       "    }\n",
       "\n",
       "    .dataframe tbody tr th {\n",
       "        vertical-align: top;\n",
       "    }\n",
       "\n",
       "    .dataframe thead th {\n",
       "        text-align: right;\n",
       "    }\n",
       "</style>\n",
       "<table border=\"1\" class=\"dataframe\">\n",
       "  <thead>\n",
       "    <tr style=\"text-align: right;\">\n",
       "      <th></th>\n",
       "      <th>Rule</th>\n",
       "      <th>Precision</th>\n",
       "      <th>Coverage</th>\n",
       "      <th>Cluster</th>\n",
       "    </tr>\n",
       "  </thead>\n",
       "  <tbody>\n",
       "    <tr>\n",
       "      <th>0</th>\n",
       "      <td>sepal_length &lt; 6.4 AND sepal_length &lt; 6.3 AND ...</td>\n",
       "      <td>1</td>\n",
       "      <td>0.9954535961151123</td>\n",
       "      <td>0</td>\n",
       "    </tr>\n",
       "    <tr>\n",
       "      <th>1</th>\n",
       "      <td>sepal_width &gt;= 3.8 AND sepal_length &gt;= 6.4 AND...</td>\n",
       "      <td>1</td>\n",
       "      <td>0.9948582649230957</td>\n",
       "      <td>2</td>\n",
       "    </tr>\n",
       "    <tr>\n",
       "      <th>2</th>\n",
       "      <td>petal_length &lt; 1.9 AND petal_length &lt; 1.7 AND ...</td>\n",
       "      <td>1</td>\n",
       "      <td>0.9940306544303894</td>\n",
       "      <td>1</td>\n",
       "    </tr>\n",
       "    <tr>\n",
       "      <th>3</th>\n",
       "      <td>petal_length &lt; 1.9 AND petal_length &gt;= 1.7 AND...</td>\n",
       "      <td>1</td>\n",
       "      <td>0.9940306544303894</td>\n",
       "      <td>1</td>\n",
       "    </tr>\n",
       "    <tr>\n",
       "      <th>4</th>\n",
       "      <td>petal_length &lt; 1.9 AND petal_length &gt;= 1.7 AND...</td>\n",
       "      <td>1</td>\n",
       "      <td>0.9940306544303894</td>\n",
       "      <td>1</td>\n",
       "    </tr>\n",
       "    <tr>\n",
       "      <th>5</th>\n",
       "      <td>petal_length &gt;= 1.9 AND petal_width &lt; 1.0 AND ...</td>\n",
       "      <td>1</td>\n",
       "      <td>0.9940306544303894</td>\n",
       "      <td>1</td>\n",
       "    </tr>\n",
       "    <tr>\n",
       "      <th>6</th>\n",
       "      <td>petal_length &gt;= 1.9 AND petal_width &lt; 1.0 AND ...</td>\n",
       "      <td>1</td>\n",
       "      <td>0.9940306544303894</td>\n",
       "      <td>1</td>\n",
       "    </tr>\n",
       "    <tr>\n",
       "      <th>7</th>\n",
       "      <td>sepal_length &lt; 6.4 AND sepal_length &lt; 6.3 AND ...</td>\n",
       "      <td>1</td>\n",
       "      <td>0.993997298181057</td>\n",
       "      <td>0</td>\n",
       "    </tr>\n",
       "    <tr>\n",
       "      <th>8</th>\n",
       "      <td>sepal_length &gt;= 6.4 AND petal_width &gt;= 1.0 AND...</td>\n",
       "      <td>1</td>\n",
       "      <td>0.9882804155349731</td>\n",
       "      <td>0</td>\n",
       "    </tr>\n",
       "    <tr>\n",
       "      <th>9</th>\n",
       "      <td>sepal_width &gt;= 3.3 AND sepal_length &lt; 6.4 AND ...</td>\n",
       "      <td>1</td>\n",
       "      <td>0.9873427152633667</td>\n",
       "      <td>0</td>\n",
       "    </tr>\n",
       "    <tr>\n",
       "      <th>10</th>\n",
       "      <td>petal_length &lt; 1.9 AND petal_length &lt; 1.7 AND ...</td>\n",
       "      <td>1</td>\n",
       "      <td>0.985277941593757</td>\n",
       "      <td>1</td>\n",
       "    </tr>\n",
       "    <tr>\n",
       "      <th>11</th>\n",
       "      <td>sepal_width &lt; 3.3 AND sepal_length &lt; 6.4 AND s...</td>\n",
       "      <td>1</td>\n",
       "      <td>0.9762586057186127</td>\n",
       "      <td>0</td>\n",
       "    </tr>\n",
       "    <tr>\n",
       "      <th>12</th>\n",
       "      <td>sepal_width &lt; 3.8 AND sepal_length &gt;= 6.4 AND ...</td>\n",
       "      <td>1</td>\n",
       "      <td>0.9701974450088129</td>\n",
       "      <td>2</td>\n",
       "    </tr>\n",
       "    <tr>\n",
       "      <th>13</th>\n",
       "      <td>sepal_length &gt;= 6.4 AND petal_width &gt;= 1.0 AND...</td>\n",
       "      <td>1</td>\n",
       "      <td>0.9493608971436819</td>\n",
       "      <td>0</td>\n",
       "    </tr>\n",
       "  </tbody>\n",
       "</table>\n",
       "</div>"
      ],
      "text/plain": [
       "                                                 Rule  Precision  \\\n",
       "0   sepal_length < 6.4 AND sepal_length < 6.3 AND ...          1   \n",
       "1   sepal_width >= 3.8 AND sepal_length >= 6.4 AND...          1   \n",
       "2   petal_length < 1.9 AND petal_length < 1.7 AND ...          1   \n",
       "3   petal_length < 1.9 AND petal_length >= 1.7 AND...          1   \n",
       "4   petal_length < 1.9 AND petal_length >= 1.7 AND...          1   \n",
       "5   petal_length >= 1.9 AND petal_width < 1.0 AND ...          1   \n",
       "6   petal_length >= 1.9 AND petal_width < 1.0 AND ...          1   \n",
       "7   sepal_length < 6.4 AND sepal_length < 6.3 AND ...          1   \n",
       "8   sepal_length >= 6.4 AND petal_width >= 1.0 AND...          1   \n",
       "9   sepal_width >= 3.3 AND sepal_length < 6.4 AND ...          1   \n",
       "10  petal_length < 1.9 AND petal_length < 1.7 AND ...          1   \n",
       "11  sepal_width < 3.3 AND sepal_length < 6.4 AND s...          1   \n",
       "12  sepal_width < 3.8 AND sepal_length >= 6.4 AND ...          1   \n",
       "13  sepal_length >= 6.4 AND petal_width >= 1.0 AND...          1   \n",
       "\n",
       "               Coverage Cluster  \n",
       "0    0.9954535961151123       0  \n",
       "1    0.9948582649230957       2  \n",
       "2    0.9940306544303894       1  \n",
       "3    0.9940306544303894       1  \n",
       "4    0.9940306544303894       1  \n",
       "5    0.9940306544303894       1  \n",
       "6    0.9940306544303894       1  \n",
       "7     0.993997298181057       0  \n",
       "8    0.9882804155349731       0  \n",
       "9    0.9873427152633667       0  \n",
       "10    0.985277941593757       1  \n",
       "11   0.9762586057186127       0  \n",
       "12   0.9701974450088129       2  \n",
       "13   0.9493608971436819       0  "
      ]
     },
     "execution_count": 15,
     "metadata": {},
     "output_type": "execute_result"
    }
   ],
   "source": [
    "r"
   ]
  },
  {
   "cell_type": "code",
   "execution_count": 20,
   "id": "c89f9509-df88-474f-94a2-443208b3f46c",
   "metadata": {},
   "outputs": [
    {
     "name": "stdout",
     "output_type": "stream",
     "text": [
      "IF sepal_length < 6.4 AND sepal_length < 6.3 AND petal_width >= 1.0 AND petal_width >= 1.3 THEN 0 # Precision(1) Coverage( 0.9954535961151123) \n",
      "IF sepal_width >= 3.8 AND sepal_length >= 6.4 AND petal_width >= 1.0 AND petal_width >= 1.5 THEN 2 # Precision(1) Coverage( 0.9948582649230957) \n",
      "IF petal_length < 1.9 AND petal_length < 1.7 AND petal_width < 1.0 AND petal_width >= 0.4 THEN 1 # Precision(1) Coverage( 0.9940306544303894) \n",
      "IF petal_length < 1.9 AND petal_length >= 1.7 AND petal_width < 1.0 AND petal_width < 0.5 THEN 1 # Precision(1) Coverage( 0.9940306544303894) \n",
      "IF petal_length < 1.9 AND petal_length >= 1.7 AND petal_width < 1.0 AND petal_width >= 0.5 THEN 1 # Precision(1) Coverage( 0.9940306544303894) \n",
      "IF petal_length >= 1.9 AND petal_width < 1.0 AND petal_width < 0.4 THEN 1 # Precision(1) Coverage( 0.9940306544303894) \n",
      "IF petal_length >= 1.9 AND petal_width < 1.0 AND petal_width >= 0.4 THEN 1 # Precision(1) Coverage( 0.9940306544303894) \n",
      "IF sepal_length < 6.4 AND sepal_length < 6.3 AND petal_width >= 1.0 AND petal_width < 1.3 THEN 0 # Precision(1) Coverage( 0.993997298181057) \n",
      "IF sepal_length >= 6.4 AND petal_width >= 1.0 AND petal_width < 1.5 AND petal_width < 1.4 THEN 0 # Precision(1) Coverage( 0.9882804155349731) \n",
      "IF sepal_width >= 3.3 AND sepal_length < 6.4 AND sepal_length >= 6.3 AND petal_width >= 1.0 THEN 0 # Precision(1) Coverage( 0.9873427152633667) \n",
      "IF petal_length < 1.9 AND petal_length < 1.7 AND petal_width < 1.0 AND petal_width < 0.4 THEN 1 # Precision(1) Coverage( 0.985277941593757) \n",
      "IF sepal_width < 3.3 AND sepal_length < 6.4 AND sepal_length >= 6.3 AND petal_width >= 1.0 THEN 0 # Precision(1) Coverage( 0.9762586057186127) \n",
      "IF sepal_width < 3.8 AND sepal_length >= 6.4 AND petal_width >= 1.0 AND petal_width >= 1.5 THEN 2 # Precision(1) Coverage( 0.9701974450088129) \n",
      "IF sepal_length >= 6.4 AND petal_width >= 1.0 AND petal_width < 1.5 AND petal_width >= 1.4 THEN 0 # Precision(1) Coverage( 0.9493608971436819) \n"
     ]
    }
   ],
   "source": [
    "#display genarated rules\n",
    "for i,rr in r.iterrows():\n",
    "    print('IF '+ rr['Rule'] +' THEN ' +rr['Cluster'] + f\" # Precision({rr['Precision']}) Coverage({rr['Coverage']}) \")"
   ]
  },
  {
   "cell_type": "markdown",
   "id": "c8e6952b",
   "metadata": {
    "tags": []
   },
   "source": [
    "# Grid Search CV"
   ]
  },
  {
   "cell_type": "code",
   "execution_count": null,
   "id": "55444fe5",
   "metadata": {},
   "outputs": [],
   "source": [
    "from sklearn.model_selection import GridSearchCV\n",
    "from sklearn.cluster import Birch"
   ]
  },
  {
   "cell_type": "code",
   "execution_count": null,
   "id": "9771f379",
   "metadata": {},
   "outputs": [],
   "source": [
    "def scorer(clamp, *args):\n",
    "    clamp.predict(clamp.X_test, clamp.y_test)\n",
    "    return {'f1': clamp.explainer_f1, 'accuracy': clamp.explainer_accuracy, 'precision': clamp.explainer_precision}"
   ]
  },
  {
   "cell_type": "code",
   "execution_count": null,
   "id": "1fb906eb",
   "metadata": {
    "tags": []
   },
   "outputs": [],
   "source": [
    "parameters = [{\n",
    "                'bounding_box_selection': ['random', 'centroids', 'outliers', 'tree_query'],\n",
    "                'description_points_ratio': [2, 4, 8, 13],\n",
    "                'test_size': [0.2],\n",
    "                'thresh':[0.9],\n",
    "                'explainer_type': ['lux'],\n",
    "                'neighborhood_size':  [20],\n",
    "                'max_depth': [2, 4, 5]\n",
    "},\n",
    "            {\n",
    "                'explainer_type': ['global'],\n",
    "                'description_points_ratio': [2,4,8,13],\n",
    "                'test_size': [0.25]\n",
    "}, \n",
    "                { \n",
    "                'description_points_ratio': [2, 4, 8, 13],\n",
    "                'test_size': [0.2],\n",
    "                'thresh':[0.9],\n",
    "                'explainer_type': ['lux'],\n",
    "                'approach': ['other'],\n",
    "                'neighborhood_size':  [20],\n",
    "                'max_depth': [2, 4, 5]\n",
    "}]\n"
   ]
  },
  {
   "cell_type": "code",
   "execution_count": null,
   "id": "e2eba2dd",
   "metadata": {},
   "outputs": [],
   "source": [
    "list_of_choosen_datasets = [\n",
    "    'ecoli.csv',\n",
    "    'lymphography.csv',\n",
    "    'glass.csv',\n",
    "    'balance.csv',\n",
    "    'breast_tissue.csv',\n",
    "    'primary_tumor.csv',\n",
    "    'vote.csv',\n",
    "    'ionosphere.csv',\n",
    "    'cmc.csv',\n",
    "    'bupa.csv']"
   ]
  },
  {
   "cell_type": "code",
   "execution_count": null,
   "id": "c4240f40",
   "metadata": {
    "tags": []
   },
   "outputs": [],
   "source": [
    "list_of_clusters = []\n",
    "for data in list_of_choosen_datasets:\n",
    "    list_of_clusters.append(len(pd.read_csv('synthetic_datasets/'+data)['y'].unique()))"
   ]
  },
  {
   "cell_type": "code",
   "execution_count": null,
   "id": "aa60e13f",
   "metadata": {
    "tags": []
   },
   "outputs": [],
   "source": [
    "#parameter settings as described above\n",
    "from sklearn.exceptions import UndefinedMetricWarning\n",
    "os.environ[\"PYTHONWARNINGS\"] = \"ignore::FutureWarning,ignore::UndefinedMetricWarning\"\n",
    "cv_restuls = []\n",
    "cv_datasets = []\n",
    "\n",
    "for dataset,cluster_number in zip(list_of_choosen_datasets, list_of_clusters):\n",
    "    data = pd.read_csv('synthetic_datasets/'+dataset)\n",
    "    data.dropna(inplace = True)\n",
    "    data.reset_index(drop = True, inplace = True)\n",
    "    labels = data['y']\n",
    "    data = data.drop('y', axis = 1)\n",
    "    print(f'Dataset: {dataset}')\n",
    "    \n",
    "    clamp = CLAMP(clusterng_algorithm = KMeans(n_clusters = cluster_number), classification_model = RandomForestClassifier())\n",
    "    \n",
    "    clf = GridSearchCV(clamp, parameters, scoring = scorer, cv = 10, refit = 'accuracy', n_jobs = 20, error_score = 'raise')\n",
    "    clf.fit(data, labels)\n",
    "    \n",
    "    rem_hmr_files()"
   ]
  },
  {
   "cell_type": "code",
   "execution_count": null,
   "id": "1a396a12",
   "metadata": {},
   "outputs": [],
   "source": [
    "rem_hmr_files()"
   ]
  },
  {
   "cell_type": "code",
   "execution_count": null,
   "id": "085387c2-b15b-452d-8a6f-9e2628fb3d93",
   "metadata": {},
   "outputs": [],
   "source": []
  },
  {
   "cell_type": "code",
   "execution_count": null,
   "id": "88ccc1c7-f36b-4c43-a2b1-a3c75145ad4d",
   "metadata": {},
   "outputs": [],
   "source": []
  },
  {
   "cell_type": "code",
   "execution_count": null,
   "id": "0c04afb3-2fea-48a4-b082-536e5acf2f47",
   "metadata": {},
   "outputs": [],
   "source": []
  },
  {
   "cell_type": "code",
   "execution_count": null,
   "id": "8d9e30c3-e1c3-46b0-a744-7e21bdf7351a",
   "metadata": {},
   "outputs": [],
   "source": []
  }
 ],
 "metadata": {
  "kernelspec": {
   "display_name": "Python 3 (ipykernel)",
   "language": "python",
   "name": "python3"
  },
  "language_info": {
   "codemirror_mode": {
    "name": "ipython",
    "version": 3
   },
   "file_extension": ".py",
   "mimetype": "text/x-python",
   "name": "python",
   "nbconvert_exporter": "python",
   "pygments_lexer": "ipython3",
   "version": "3.8.13"
  }
 },
 "nbformat": 4,
 "nbformat_minor": 5
}
